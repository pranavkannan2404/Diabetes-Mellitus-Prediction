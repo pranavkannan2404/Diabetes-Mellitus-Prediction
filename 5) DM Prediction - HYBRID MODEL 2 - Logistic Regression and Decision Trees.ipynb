{
 "cells": [
  {
   "cell_type": "code",
   "execution_count": 7,
   "id": "feb3a977",
   "metadata": {},
   "outputs": [],
   "source": [
    "import pandas as pd\n",
    "import numpy as np\n",
    "import matplotlib.pyplot as plt\n",
    "import seaborn as sns\n",
    "from sklearn.model_selection import train_test_split\n",
    "from sklearn.metrics import classification_report, confusion_matrix, accuracy_score\n",
    "from sklearn.linear_model import LogisticRegression\n",
    "from sklearn.tree import DecisionTreeClassifier\n"
   ]
  },
  {
   "cell_type": "code",
   "execution_count": 8,
   "id": "ccc01e14",
   "metadata": {},
   "outputs": [],
   "source": [
    "df = pd.read_csv('Null_Values_Handled.csv')"
   ]
  },
  {
   "cell_type": "code",
   "execution_count": 13,
   "id": "7a02a714",
   "metadata": {},
   "outputs": [],
   "source": [
    "#X = df.drop('Outcome', axis=1)\n",
    "#y = df['Outcome']\n",
    "X_train, X_test, y_train, y_test = train_test_split(X, y, test_size=0.2, random_state=0)"
   ]
  },
  {
   "cell_type": "code",
   "execution_count": 11,
   "id": "6489a3e8",
   "metadata": {},
   "outputs": [],
   "source": [
    "# Create and train Logistic Regression model\n",
    "lr_model = LogisticRegression(max_iter=1000)\n",
    "lr_model.fit(X_train, y_train)\n",
    "\n",
    "# Create and train Decision Tree model\n",
    "dt_model = DecisionTreeClassifier()\n",
    "dt_model.fit(X_train, y_train)\n",
    "\n",
    "# Make hybrid model predictions\n",
    "lr_pred = lr_model.predict(X_test)\n",
    "dt_pred = dt_model.predict(X_test)\n",
    "hybrid_pred = []\n",
    "for i in range(len(X_test)):\n",
    "    if lr_pred[i] == 1 and dt_pred[i] == 1:\n",
    "        hybrid_pred.append(1)\n",
    "    else:\n",
    "        hybrid_pred.append(0)\n"
   ]
  },
  {
   "cell_type": "code",
   "execution_count": 12,
   "id": "3de5a05f",
   "metadata": {},
   "outputs": [
    {
     "name": "stdout",
     "output_type": "stream",
     "text": [
      "Accuracy Score:  0.8051948051948052\n",
      "\n",
      "Confusion Matrix:\n",
      "[[103   4]\n",
      " [ 26  21]]\n",
      "\n",
      "Classification Report:\n",
      "              precision    recall  f1-score   support\n",
      "\n",
      "           0       0.80      0.96      0.87       107\n",
      "           1       0.84      0.45      0.58        47\n",
      "\n",
      "    accuracy                           0.81       154\n",
      "   macro avg       0.82      0.70      0.73       154\n",
      "weighted avg       0.81      0.81      0.78       154\n",
      "\n"
     ]
    }
   ],
   "source": [
    "# Evaluate model performance\n",
    "print(\"Accuracy Score: \", accuracy_score(y_test, hybrid_pred))\n",
    "print(\"\\nConfusion Matrix:\")\n",
    "print(confusion_matrix(y_test, hybrid_pred))\n",
    "print(\"\\nClassification Report:\")\n",
    "print(classification_report(y_test, hybrid_pred))\n"
   ]
  }
 ],
 "metadata": {
  "kernelspec": {
   "display_name": "Python 3 (ipykernel)",
   "language": "python",
   "name": "python3"
  },
  "language_info": {
   "codemirror_mode": {
    "name": "ipython",
    "version": 3
   },
   "file_extension": ".py",
   "mimetype": "text/x-python",
   "name": "python",
   "nbconvert_exporter": "python",
   "pygments_lexer": "ipython3",
   "version": "3.9.12"
  }
 },
 "nbformat": 4,
 "nbformat_minor": 5
}
