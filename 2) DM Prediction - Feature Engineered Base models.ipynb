{
 "cells": [
  {
   "cell_type": "code",
   "execution_count": 2,
   "id": "443c07c8",
   "metadata": {},
   "outputs": [],
   "source": [
    "import numpy as np\n",
    "import pandas as pd\n",
    "import matplotlib.pyplot as plt\n",
    "import seaborn as sns\n",
    "import missingno as msno\n",
    "from mlxtend.plotting import plot_decision_regions\n",
    "from pandas.plotting import scatter_matrix\n",
    "from sklearn.preprocessing import StandardScaler\n",
    "from sklearn.model_selection import train_test_split\n",
    "from sklearn.neighbors import KNeighborsClassifier\n",
    "from sklearn.metrics import confusion_matrix, accuracy_score, classification_report, plot_roc_curve, plot_confusion_matrix, precision_score, recall_score, f1_score\n",
    "from sklearn.linear_model import LogisticRegression\n",
    "from sklearn.tree import DecisionTreeClassifier\n",
    "from sklearn.ensemble import RandomForestClassifier, GradientBoostingClassifier\n",
    "from sklearn.feature_selection import SelectKBest, chi2, mutual_info_classif, f_classif\n",
    "from sklearn.svm import SVC\n",
    "import networkx as nx\n",
    "from xgboost import XGBClassifier\n",
    "from sklearn.impute import KNNImputer\n",
    "from sklearn.naive_bayes import GaussianNB"
   ]
  },
  {
   "cell_type": "code",
   "execution_count": 3,
   "id": "01e2cbe2",
   "metadata": {},
   "outputs": [
    {
     "data": {
      "text/plain": [
       "(768, 10)"
      ]
     },
     "execution_count": 3,
     "metadata": {},
     "output_type": "execute_result"
    }
   ],
   "source": [
    "data = pd.read_csv('NH_DB.csv')\n",
    "data.head()\n",
    "data.shape"
   ]
  },
  {
   "cell_type": "code",
   "execution_count": null,
   "id": "b9c9dd11",
   "metadata": {},
   "outputs": [],
   "source": [
    "data['AgeBin'] = pd.cut(data['Age'], bins=[0, 30, 50, 100], labels=['Young', 'Adult', 'Senior'])"
   ]
  },
  {
   "cell_type": "code",
   "execution_count": null,
   "id": "93d56c52",
   "metadata": {},
   "outputs": [],
   "source": [
    "scaler = StandardScaler()\n",
    "data[['Glucose', 'BloodPressure', 'SkinThickness', 'Insulin', 'BMI']] = scaler.fit_transform(data[['Glucose', 'BloodPressure', 'SkinThickness', 'Insulin', 'BMI']])"
   ]
  },
  {
   "cell_type": "code",
   "execution_count": 4,
   "id": "e4b0f08e",
   "metadata": {},
   "outputs": [],
   "source": [
    "#data['Glucose_BMI'] = data['Glucose'] * data['BMI']\n",
    "data['Age_BMI'] = data['Age'] * data['BMI']\n",
    "data['Glucose_Insulin'] = data['Glucose'] * data['Insulin']\n",
    "data['Pregnancies_Age'] = data['Pregnancies'] * data['Age']\n",
    "data['BloodPressure_BMI'] = data['BloodPressure'] * data['BMI']\n"
   ]
  },
  {
   "cell_type": "code",
   "execution_count": null,
   "id": "3afed395",
   "metadata": {},
   "outputs": [],
   "source": [
    "data = pd.get_dummies(data, columns=['AgeBin'], drop_first=True)"
   ]
  },
  {
   "cell_type": "code",
   "execution_count": null,
   "id": "ab218c60",
   "metadata": {},
   "outputs": [],
   "source": [
    "plt.figure(figsize=(12,10))\n",
    "p = sns.heatmap(data.corr(), annot=True, cmap='RdYlGn')\n"
   ]
  },
  {
   "cell_type": "code",
   "execution_count": 4,
   "id": "ec427d99",
   "metadata": {},
   "outputs": [],
   "source": [
    "data = data.drop('S.no', axis=1)\n",
    "X = data.drop('Outcome', axis=1)\n",
    "y = data['Outcome']\n"
   ]
  },
  {
   "cell_type": "code",
   "execution_count": 8,
   "id": "a07ab8f5",
   "metadata": {},
   "outputs": [],
   "source": [
    "\n",
    "\n",
    "columns_to_select = ['Age_BMI', 'Glucose_Insulin', 'Pregnancies_Age', 'BloodPressure_BMI', 'Outcome']\n",
    "\n",
    "new_dataframe = data[columns_to_select].copy()\n"
   ]
  },
  {
   "cell_type": "code",
   "execution_count": 10,
   "id": "3568b9c2",
   "metadata": {},
   "outputs": [
    {
     "data": {
      "image/png": "[encoded data removed]",
      "text/plain": [
       "<Figure size 432x360 with 2 Axes>"
      ]
     },
     "metadata": {
      "needs_background": "light"
     },
     "output_type": "display_data"
    }
   ],
   "source": [
    "plt.figure(figsize=(6,5))\n",
    "p = sns.heatmap(new_dataframe.corr(), annot=True, cmap='RdYlGn')\n"
   ]
  },
  {
   "cell_type": "code",
   "execution_count": 5,
   "id": "88304697",
   "metadata": {},
   "outputs": [
    {
     "data": {
      "text/html": [
       "<div>\n",
       "<style scoped>\n",
       "    .dataframe tbody tr th:only-of-type {\n",
       "        vertical-align: middle;\n",
       "    }\n",
       "\n",
       "    .dataframe tbody tr th {\n",
       "        vertical-align: top;\n",
       "    }\n",
       "\n",
       "    .dataframe thead th {\n",
       "        text-align: right;\n",
       "    }\n",
       "</style>\n",
       "<table border=\"1\" class=\"dataframe\">\n",
       "  <thead>\n",
       "    <tr style=\"text-align: right;\">\n",
       "      <th></th>\n",
       "      <th>Pregnancies</th>\n",
       "      <th>Glucose</th>\n",
       "      <th>BloodPressure</th>\n",
       "      <th>SkinThickness</th>\n",
       "      <th>Insulin</th>\n",
       "      <th>BMI</th>\n",
       "      <th>DiabetesPedigreeFunction</th>\n",
       "      <th>Age</th>\n",
       "      <th>Outcome</th>\n",
       "      <th>Age_BMI</th>\n",
       "      <th>Glucose_Insulin</th>\n",
       "      <th>Pregnancies_Age</th>\n",
       "      <th>BloodPressure_BMI</th>\n",
       "    </tr>\n",
       "  </thead>\n",
       "  <tbody>\n",
       "    <tr>\n",
       "      <th>0</th>\n",
       "      <td>6</td>\n",
       "      <td>148.0</td>\n",
       "      <td>72.0</td>\n",
       "      <td>35.00000</td>\n",
       "      <td>213.400000</td>\n",
       "      <td>33.6</td>\n",
       "      <td>0.627</td>\n",
       "      <td>50</td>\n",
       "      <td>1</td>\n",
       "      <td>1680.0</td>\n",
       "      <td>31583.200000</td>\n",
       "      <td>300</td>\n",
       "      <td>2419.2</td>\n",
       "    </tr>\n",
       "    <tr>\n",
       "      <th>1</th>\n",
       "      <td>1</td>\n",
       "      <td>85.0</td>\n",
       "      <td>66.0</td>\n",
       "      <td>29.00000</td>\n",
       "      <td>140.600000</td>\n",
       "      <td>26.6</td>\n",
       "      <td>0.351</td>\n",
       "      <td>31</td>\n",
       "      <td>0</td>\n",
       "      <td>824.6</td>\n",
       "      <td>11951.000000</td>\n",
       "      <td>31</td>\n",
       "      <td>1755.6</td>\n",
       "    </tr>\n",
       "    <tr>\n",
       "      <th>2</th>\n",
       "      <td>8</td>\n",
       "      <td>183.0</td>\n",
       "      <td>64.0</td>\n",
       "      <td>29.15342</td>\n",
       "      <td>155.548223</td>\n",
       "      <td>23.3</td>\n",
       "      <td>0.672</td>\n",
       "      <td>32</td>\n",
       "      <td>1</td>\n",
       "      <td>745.6</td>\n",
       "      <td>28465.324873</td>\n",
       "      <td>256</td>\n",
       "      <td>1491.2</td>\n",
       "    </tr>\n",
       "    <tr>\n",
       "      <th>3</th>\n",
       "      <td>1</td>\n",
       "      <td>89.0</td>\n",
       "      <td>66.0</td>\n",
       "      <td>23.00000</td>\n",
       "      <td>94.000000</td>\n",
       "      <td>28.1</td>\n",
       "      <td>0.167</td>\n",
       "      <td>21</td>\n",
       "      <td>0</td>\n",
       "      <td>590.1</td>\n",
       "      <td>8366.000000</td>\n",
       "      <td>21</td>\n",
       "      <td>1854.6</td>\n",
       "    </tr>\n",
       "    <tr>\n",
       "      <th>4</th>\n",
       "      <td>0</td>\n",
       "      <td>137.0</td>\n",
       "      <td>40.0</td>\n",
       "      <td>35.00000</td>\n",
       "      <td>168.000000</td>\n",
       "      <td>43.1</td>\n",
       "      <td>2.288</td>\n",
       "      <td>33</td>\n",
       "      <td>1</td>\n",
       "      <td>1422.3</td>\n",
       "      <td>23016.000000</td>\n",
       "      <td>0</td>\n",
       "      <td>1724.0</td>\n",
       "    </tr>\n",
       "  </tbody>\n",
       "</table>\n",
       "</div>"
      ],
      "text/plain": [
       "   Pregnancies  Glucose  BloodPressure  SkinThickness     Insulin   BMI  \\\n",
       "0            6    148.0           72.0       35.00000  213.400000  33.6   \n",
       "1            1     85.0           66.0       29.00000  140.600000  26.6   \n",
       "2            8    183.0           64.0       29.15342  155.548223  23.3   \n",
       "3            1     89.0           66.0       23.00000   94.000000  28.1   \n",
       "4            0    137.0           40.0       35.00000  168.000000  43.1   \n",
       "\n",
       "   DiabetesPedigreeFunction  Age  Outcome  Age_BMI  Glucose_Insulin  \\\n",
       "0                     0.627   50        1   1680.0     31583.200000   \n",
       "1                     0.351   31        0    824.6     11951.000000   \n",
       "2                     0.672   32        1    745.6     28465.324873   \n",
       "3                     0.167   21        0    590.1      8366.000000   \n",
       "4                     2.288   33        1   1422.3     23016.000000   \n",
       "\n",
       "   Pregnancies_Age  BloodPressure_BMI  \n",
       "0              300             2419.2  \n",
       "1               31             1755.6  \n",
       "2              256             1491.2  \n",
       "3               21             1854.6  \n",
       "4                0             1724.0  "
      ]
     },
     "execution_count": 5,
     "metadata": {},
     "output_type": "execute_result"
    }
   ],
   "source": [
    "data.head()\n"
   ]
  },
  {
   "cell_type": "code",
   "execution_count": 8,
   "id": "f9e98e4d",
   "metadata": {},
   "outputs": [],
   "source": [
    "data.to_csv('Feature_Engineered_Dataset.csv')"
   ]
  },
  {
   "cell_type": "code",
   "execution_count": null,
   "id": "131a08ad",
   "metadata": {},
   "outputs": [],
   "source": [
    "X_train, X_test, y_train, y_test = train_test_split(X, y, test_size=0.2, random_state=42)"
   ]
  },
  {
   "cell_type": "code",
   "execution_count": null,
   "id": "2b078960",
   "metadata": {},
   "outputs": [],
   "source": [
    "scaler = StandardScaler()\n",
    "X_train = scaler.fit_transform(X_train)\n",
    "X_test = scaler.transform(X_test)\n"
   ]
  },
  {
   "cell_type": "code",
   "execution_count": null,
   "id": "da0ecabb",
   "metadata": {},
   "outputs": [],
   "source": [
    "models = {\n",
    "    'Logistic Regression': LogisticRegression(random_state=42, max_iter=1000),\n",
    "    'Decision Tree': DecisionTreeClassifier(random_state=42),\n",
    "    'Random Forest': RandomForestClassifier(random_state=42),\n",
    "    'SVC': SVC(random_state=42),\n",
    "    'KNN': KNeighborsClassifier(),\n",
    "    'Naive Bayes': GaussianNB()\n",
    "}"
   ]
  },
  {
   "cell_type": "code",
   "execution_count": null,
   "id": "a9d53255",
   "metadata": {},
   "outputs": [],
   "source": [
    "results = []\n",
    "for name, model in models.items():\n",
    "    model.fit(X_train, y_train)\n",
    "    y_pred = model.predict(X_test)\n",
    "    acc = accuracy_score(y_test, y_pred)\n",
    "    prec = precision_score(y_test, y_pred, zero_division=0)\n",
    "    rec = recall_score(y_test, y_pred)\n",
    "    f1 = f1_score(y_test, y_pred)\n",
    "    results.append([name, acc, prec, rec, f1])"
   ]
  },
  {
   "cell_type": "code",
   "execution_count": null,
   "id": "ffdb8dfe",
   "metadata": {},
   "outputs": [],
   "source": [
    "results_df = pd.DataFrame(results, columns=['Model', 'Accuracy', 'Precision', 'Recall', 'F1-score'])\n",
    "print(results_df)"
   ]
  },
  {
   "cell_type": "code",
   "execution_count": null,
   "id": "23a7a9be",
   "metadata": {},
   "outputs": [],
   "source": [
    "results_df.to_csv('Feature_Engineered_Dataframe.csv', index=False)\n"
   ]
  }
 ],
 "metadata": {
  "kernelspec": {
   "display_name": "Python 3 (ipykernel)",
   "language": "python",
   "name": "python3"
  },
  "language_info": {
   "codemirror_mode": {
    "name": "ipython",
    "version": 3
   },
   "file_extension": ".py",
   "mimetype": "text/x-python",
   "name": "python",
   "nbconvert_exporter": "python",
   "pygments_lexer": "ipython3",
   "version": "3.9.12"
  }
 },
 "nbformat": 4,
 "nbformat_minor": 5
}
